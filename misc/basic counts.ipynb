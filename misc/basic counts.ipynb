{
 "cells": [
  {
   "cell_type": "code",
   "execution_count": 8,
   "metadata": {},
   "outputs": [],
   "source": [
    "import _pickle as pkl\n",
    "from utils import nlp"
   ]
  },
  {
   "cell_type": "code",
   "execution_count": 3,
   "metadata": {},
   "outputs": [],
   "source": [
    "with open(\"data/caches/chapter_cache.pkl\", \"rb\") as file:\n",
    "    chapters = pkl.load(file)"
   ]
  },
  {
   "cell_type": "code",
   "execution_count": 7,
   "metadata": {},
   "outputs": [
    {
     "name": "stdout",
     "output_type": "stream",
     "text": [
      "There're 123 chapters\n",
      "The average number of sentences is 636 while the maximimum is 1856\n"
     ]
    }
   ],
   "source": [
    "print(\"There're %d chapters\" % len(chapters))\n",
    "num_sentences = [len(chapter.lemmas) for chapter in chapters]\n",
    "print(\"The average number of sentences is %d while the maximimum is %d\" % (sum(num_sentences) / len(num_sentences), max(num_sentences)))"
   ]
  },
  {
   "cell_type": "code",
   "execution_count": 12,
   "metadata": {},
   "outputs": [
    {
     "name": "stdout",
     "output_type": "stream",
     "text": [
      "There're 15025 kinds of lemmas in the corpus\n"
     ]
    }
   ],
   "source": [
    "# get the vocab and the bi-grams\n",
    "# vocab\n",
    "vocab = set()\n",
    "for chapter in chapters:\n",
    "    for sentence in chapter.lemmas:\n",
    "        for lemma in sentence:\n",
    "            vocab.add(lemma)\n",
    "print(\"There're %d kinds of lemmas in the corpus\" % len(vocab))"
   ]
  },
  {
   "cell_type": "code",
   "execution_count": 31,
   "metadata": {
    "pycharm": {
     "name": "#%%\n"
    }
   },
   "outputs": [
    {
     "name": "stdout",
     "output_type": "stream",
     "text": [
      "There're 164966 concepts and 5489 sentences have been skiped\n"
     ]
    }
   ],
   "source": [
    "# bigrams\n",
    "bigram = set()\n",
    "idf_bigram = dict({})\n",
    "neglected_sentences = 0\n",
    "for chapter in chapters:\n",
    "    chapter_bigram_set = set()\n",
    "    for sentence in chapter.lemmas:\n",
    "        if len(sentence) < 5:\n",
    "            neglected_sentences += 1\n",
    "            continue\n",
    "        for i in range(1, len(sentence)):\n",
    "            if sentence[i-1] in nlp.STOPWORDS and sentence[i] in nlp.STOPWORDS:\n",
    "                continue\n",
    "            concept = (sentence[i-1], sentence[i])\n",
    "            bigram.add(concept)\n",
    "            chapter_bigram_set.add(concept)\n",
    "    for concept in chapter_bigram_set:\n",
    "        if concept not in idf_bigram:\n",
    "            idf_bigram[concept] = 1\n",
    "        else:\n",
    "            idf_bigram[concept] += 1\n",
    "\n",
    "print(\"There're %d concepts and %d sentences have been skiped\" % (len(bigram), neglected_sentences))"
   ]
  }
 ],
 "metadata": {
  "kernelspec": {
   "name": "pycharm-21c297b6",
   "language": "python",
   "display_name": "PyCharm (src)"
  },
  "language_info": {
   "codemirror_mode": {
    "name": "ipython",
    "version": 3
   },
   "file_extension": ".py",
   "mimetype": "text/x-python",
   "name": "python",
   "nbconvert_exporter": "python",
   "pygments_lexer": "ipython3",
   "version": "3.7.6"
  }
 },
 "nbformat": 4,
 "nbformat_minor": 4
}